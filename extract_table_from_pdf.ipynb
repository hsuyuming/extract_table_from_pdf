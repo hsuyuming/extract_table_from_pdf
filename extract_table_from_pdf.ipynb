{
 "cells": [
  {
   "cell_type": "code",
   "execution_count": null,
   "metadata": {},
   "outputs": [],
   "source": [
    "from langchain_core.messages import HumanMessage\n",
    "from langchain_google_vertexai import ChatVertexAI\n",
    "import os\n",
    "import pdf2image\n",
    "import pathlib"
   ]
  },
  {
   "cell_type": "code",
   "execution_count": null,
   "metadata": {},
   "outputs": [],
   "source": [
    "def extract_filename(file_path:str):\n",
    "    return pathlib.PurePosixPath(file_path).name.replace(pathlib.PurePosixPath(file_path).suffix,'')\n",
    "\n",
    "def convert_pdf_to_images(input_pdf_path, output_folder, dpi=500):\n",
    "    \"\"\"\n",
    "    Converts a PDF file to a list of PNG images.\n",
    "\n",
    "    Args:\n",
    "        input_pdf_path (str): The path to the input PDF file.\n",
    "        output_folder (str): The path to the output folder where the images will be saved.\n",
    "        dpi (int, optional): The DPI of the output images. Default is 500.\n",
    "\n",
    "    Returns:\n",
    "        list: A list of PNG images.\n",
    "    \"\"\"\n",
    "    \n",
    "\n",
    "    # Ensure output folder exists\n",
    "    if not os.path.exists(output_folder):\n",
    "        os.makedirs(output_folder)\n",
    "\n",
    "    # Convert PDF to images\n",
    "    pdf_images = pdf2image.convert_from_path(input_pdf_path, dpi)\n",
    "    fname_list=[]\n",
    "    # Save images to output folder\n",
    "    for i, image in enumerate(pdf_images):\n",
    "        file_name=extract_filename(input_pdf_path)\n",
    "        fname = f'{output_folder}/{file_name}_{str(i)}.png'\n",
    "        image.save(fname, \"PNG\")\n",
    "        fname_list.append(fname)\n",
    "\n",
    "    return fname_list\n",
    "\n",
    "def image_with_llm(llm, image_path, prompt):\n",
    "    \"\"\"Extract table from image using LLM.\n",
    "\n",
    "    Args:\n",
    "    image_path: Path to the image file.\n",
    "    llm: LLM model to use for extraction.\n",
    "\n",
    "    Returns:\n",
    "    Extracted table.\n",
    "    \"\"\"\n",
    "\n",
    "    image_message = {\n",
    "        \"type\": \"image_url\",\n",
    "        \"image_url\": {\"url\": image_path},\n",
    "    }\n",
    "    text_message = {\n",
    "        \"type\": \"text\",\n",
    "        \"text\": prompt,\n",
    "    }\n",
    "    message = HumanMessage(content=[text_message, image_message])\n",
    "\n",
    "    output = llm([message])\n",
    "    return output.content\n",
    "\n",
    "def save_html(html_string, filename):\n",
    "    \"\"\"\n",
    "    Save an HTML string to a file.\n",
    "\n",
    "    Args:\n",
    "    html_string: The HTML string to save.\n",
    "    filename: The name of the file to save the HTML string to.\n",
    "    \"\"\"\n",
    "\n",
    "    with open(filename, \"w\") as f:\n",
    "        f.write(html_string)"
   ]
  },
  {
   "cell_type": "code",
   "execution_count": null,
   "metadata": {},
   "outputs": [],
   "source": [
    "llm = ChatVertexAI(\n",
    "    model_name=\"gemini-pro-vision\",\n",
    "    temperature=0\n",
    ")"
   ]
  },
  {
   "cell_type": "code",
   "execution_count": null,
   "metadata": {},
   "outputs": [],
   "source": [
    "base_path=\".\"\n",
    "file_name=\"example.pdf\"\n",
    "input_pdf_path = f'{base_path}/{file_name}'\n",
    "output_pic_folder = f'{base_path}/pic_file'\n",
    "output_html_folder = f'{base_path}/html'\n",
    "\n",
    "\n",
    "pics = convert_pdf_to_images(input_pdf_path,output_pic_folder)\n"
   ]
  },
  {
   "cell_type": "code",
   "execution_count": null,
   "metadata": {},
   "outputs": [],
   "source": [
    "check_table_exist_prompt=\"Are there any table within this picture? return Yes or No\"\n",
    "\n",
    "result = [pic for pic in pics if image_with_llm(llm,pic,check_table_exist_prompt).strip() == \"Yes\"]"
   ]
  },
  {
   "cell_type": "code",
   "execution_count": null,
   "metadata": {},
   "outputs": [],
   "source": [
    "extract_table_to_html_prompt=\"Extract data as html format, separate the column carefully.\"\n",
    "for _ in result:\n",
    "    htlm_str = image_with_llm(llm, _, extract_table_to_html_prompt)\n",
    "    save_html(\n",
    "        htlm_str, \n",
    "        f\"{output_html_folder}/{extract_filename(_)}.html\")"
   ]
  },
  {
   "cell_type": "code",
   "execution_count": null,
   "metadata": {},
   "outputs": [],
   "source": []
  }
 ],
 "metadata": {
  "kernelspec": {
   "display_name": "genai_poc",
   "language": "python",
   "name": "python3"
  },
  "language_info": {
   "codemirror_mode": {
    "name": "ipython",
    "version": 3
   },
   "file_extension": ".py",
   "mimetype": "text/x-python",
   "name": "python",
   "nbconvert_exporter": "python",
   "pygments_lexer": "ipython3",
   "version": "3.10.0"
  }
 },
 "nbformat": 4,
 "nbformat_minor": 2
}
